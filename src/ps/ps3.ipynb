{
 "cells": [
  {
   "cell_type": "markdown",
   "metadata": {},
   "source": [
    "# **cs3102 Fall 2019**\n",
    "\n",
    "## Problem Set 3 (Jupyter Part): Computing Models and Universality\n",
    "\n",
    "   \n",
    "**Purpose**  \n",
    "The goal of this part of Problem Set 3 is to develop your understanding of and ability to use different computing models that are related to straightline programs."
   ]
  },
  {
   "cell_type": "markdown",
   "metadata": {},
   "source": [
    "## NAND Straightline\n",
    "\n",
    "We begin by giving you NAND. The asserts ensure that we only work with 0s and 1s"
   ]
  },
  {
   "cell_type": "code",
   "execution_count": 4,
   "metadata": {},
   "outputs": [],
   "source": [
    "def checkBoolean(b):\n",
    "    \"\"\"Tests a value is a valid Boolean. We use the int values 0 and 1 to represent \n",
    "    Boolean False and True. (Technically, checkBoolean should not be allowed in a \n",
    "    \"straightline\" program since it is a function call, but we are just using it to\n",
    "    check assertions.)\n",
    "    \"\"\"\n",
    "    assert b == 0 or b == 1\n",
    "    \n",
    "def NAND(a,b):\n",
    "    checkBoolean(a)\n",
    "    checkBoolean(b)\n",
    "    return 1 - (a * b)"
   ]
  },
  {
   "cell_type": "code",
   "execution_count": 3,
   "metadata": {},
   "outputs": [],
   "source": [
    "assert(NAND(0, 0) == 1)\n",
    "assert(NAND(0, 1) == 1)\n",
    "assert(NAND(1, 0) == 1)\n",
    "assert(NAND(1, 1) == 0)"
   ]
  },
  {
   "cell_type": "markdown",
   "metadata": {},
   "source": [
    "Next, we define `NOT`, `AND`, and `OR` building from our `NAND` function."
   ]
  },
  {
   "cell_type": "code",
   "execution_count": 16,
   "metadata": {},
   "outputs": [],
   "source": [
    "def NOT(a):\n",
    "    checkBoolean(a)\n",
    "    return NAND(a, a)\n",
    "\n",
    "def AND(a, b):\n",
    "    checkBoolean(a)\n",
    "    checkBoolean(b)\n",
    "    temp = NAND(a, b)\n",
    "    return NAND(temp, temp)\n",
    "\n",
    "def OR(a, b):\n",
    "    checkBoolean(a)\n",
    "    checkBoolean(b)\n",
    "    temp1 = NAND(a,a)\n",
    "    temp2 = NAND(b,b)\n",
    "    return NAND(temp1, temp2)"
   ]
  },
  {
   "cell_type": "markdown",
   "metadata": {},
   "source": [
    "Here's a definition of `MAJ` using `NAND`:"
   ]
  },
  {
   "cell_type": "code",
   "execution_count": 5,
   "metadata": {},
   "outputs": [],
   "source": [
    "def MAJ(a, b, c):\n",
    "    \"\"\"Outputs the majority (the value that appears at least twice) of three Boolean \n",
    "    inputs. (Note that the Pigeonhole Principle ensures that such a majority exists.)\"\"\"\n",
    "    checkBoolean(a)\n",
    "    checkBoolean(b)\n",
    "    checkBoolean(c)\n",
    "    \n",
    "    and1_temp = NAND(a, b)\n",
    "    and1 = NAND(and1_temp, and1_temp)\n",
    "    and2_temp = NAND(b,c)\n",
    "    and2 = NAND(and2_temp, and2_temp)\n",
    "    and3_temp = NAND(a,c)\n",
    "    and3 = NAND(and3_temp,and3_temp)\n",
    "    or1_temp1 = NAND(and1,and1)\n",
    "    or1_temp2 = NAND(and2,and2)\n",
    "    or1 = NAND(or1_temp1, or1_temp2)\n",
    "    or2_temp1 = NAND(or1, or1)\n",
    "    or2_temp2 = NAND(and3, and3)\n",
    "    return NAND(or2_temp1, or2_temp2)"
   ]
  },
  {
   "cell_type": "markdown",
   "metadata": {},
   "source": [
    "**Problem J1.** Re-implement MAJ as a NAND straightline program using no more than 6 lines."
   ]
  },
  {
   "cell_type": "code",
   "execution_count": 7,
   "metadata": {},
   "outputs": [],
   "source": [
    "def MAJ2(a,b,c):\n",
    "    # J1: implement MAJ using only 6 NANDs\n",
    "    return MAJ(a,b,c) # replace with your code that doesn't use MAJ"
   ]
  },
  {
   "cell_type": "code",
   "execution_count": 8,
   "metadata": {},
   "outputs": [],
   "source": [
    "assert(MAJ(0,0,1) == MAJ2(0,0,1))\n",
    "assert(MAJ(1,0,1) == MAJ2(1,0,1))\n",
    "assert(MAJ(1,1,1) == MAJ2(1,1,1))\n",
    "assert(MAJ(0,0,0) == MAJ2(0,0,0))"
   ]
  },
  {
   "cell_type": "markdown",
   "metadata": {},
   "source": [
    "**Problem J2** It turns out that {`MAJ`, `NOT`} is a universal gate set. Since we already know {`NAND`} is a universal gate set, one way to prove this is to show that it is possible to implement NAND using only MAJ and NOT. Show this by using exclusively MAJ and NOT to implement NAND. You may not introduce new procedures to complete this question (i.e., other than the `checkBoolean` callse, only statements of the form `var = MAJ(x, y, z)` or `var = NOT(x)` should appear in the body of `NAND2`)."
   ]
  },
  {
   "cell_type": "code",
   "execution_count": 9,
   "metadata": {},
   "outputs": [],
   "source": [
    "def NAND2(a,b):\n",
    "    # J2: implement NAND using only MAJ and NOT\n",
    "    checkBoolean(a)\n",
    "    checkBoolean(b)\n",
    "    return NAND(a,b) # replace with your code"
   ]
  },
  {
   "cell_type": "code",
   "execution_count": 10,
   "metadata": {},
   "outputs": [],
   "source": [
    "assert(NAND(0,0) == NAND2(0,0))\n",
    "assert(NAND(0,1) == NAND2(0,1))\n",
    "assert(NAND(1,0) == NAND2(1,0))\n",
    "assert(NAND(1,1) == NAND2(1,1))"
   ]
  },
  {
   "cell_type": "markdown",
   "metadata": {},
   "source": [
    "## Constructive Definitions\n",
    "\n",
    "Chapter 4 of the book and Class 7 discussed the `LOOKUP` function. This function takes $2^k + k$ bits of input and gives one bit as output. The output bit returned is the bit from among the first $2^k$ inputs that is indexed by the binary number represented by the last $k$ bits.\n",
    "\n",
    "In class 7, we used `IF` to build `LOOKUP` as follows:"
   ]
  },
  {
   "cell_type": "code",
   "execution_count": 11,
   "metadata": {},
   "outputs": [],
   "source": [
    "def IF(cond,a,b):\n",
    "    checkBoolean(cond)\n",
    "    checkBoolean(a)\n",
    "    checkBoolean(b)\n",
    "    \n",
    "    not_cond = NAND(cond, cond)\n",
    "    temp1 = NAND(cond, a)\n",
    "    temp2 = NAND(not_cond, b)\n",
    "    return NAND(temp1, temp2)"
   ]
  },
  {
   "cell_type": "code",
   "execution_count": 13,
   "metadata": {},
   "outputs": [],
   "source": [
    "def LOOKUP1(x0, x1, i0):\n",
    "    [checkBoolean(x) for x in (x0, x1, i0)] # not strightline code, but just checking\n",
    "    return IF(i0, x1, x0)"
   ]
  },
  {
   "cell_type": "code",
   "execution_count": 18,
   "metadata": {},
   "outputs": [],
   "source": [
    "def LOOKUP2(x0,x1,x2,x3,i0,i1):\n",
    "    [checkBoolean(x) for x in (x0, x1, x2, x3, i0, i1)] # just checking\n",
    "    first_half = LOOKUP1(x0, x1, i1)\n",
    "    second_half = LOOKUP1(x2, x3, i1)\n",
    "    return IF(i0, second_half, first_half)\n",
    "\n",
    "def LOOKUP3(x0,x1,x2,x3,x4,x5,x6,x7,i0,i1,i2,i3):\n",
    "    [checkBoolean(x) for x in (x0, x1, x2, x3, x4, x5, x6, x7, i0, i1, i2, i3)] # just checking\n",
    "    first_half = LOOKUP2(x0, x1, x2, x3, i0, i1)\n",
    "    second_half = LOOKUP2(x4, x5, x6, x7, i2, i3)\n",
    "    return IF(i0, second_half, first_half)"
   ]
  },
  {
   "cell_type": "code",
   "execution_count": 19,
   "metadata": {},
   "outputs": [],
   "source": [
    "assert(LOOKUP3(0,0,0,0,0,0,0,1,1,1,1,1) == 1)\n",
    "assert(LOOKUP3(0,0,0,0,0,0,0,1,1,1,1,0) == 0)\n",
    "assert(LOOKUP3(1,0,0,0,0,0,0,0,0,0,0,0) == 1)"
   ]
  },
  {
   "cell_type": "markdown",
   "metadata": {},
   "source": [
    "In these examples we (manually) defined `LOOKUPn` in terms of `LOOKUPn-1`. \n",
    "\n",
    "For the next several problems we will be using a similar idea (of recursive definitions) to construct `ADDn`, a program that will add together $n$-bit numbers. \n",
    "\n",
    "To begin, we will write a half adder. Sometimes when adding $n$-bit numbers, the result will be $n+1$ bits long. For example $10 + 11 = 101$. A half adder is an adder which takes as input two n-bit integers and returns the least significant n bits of their sum. For the previous example, a half add would return `01`. \n",
    "\n",
    "**Problem J3** Implement a NAND straightline program for a 2-bit half adder below. (You may use only NAND)"
   ]
  },
  {
   "cell_type": "code",
   "execution_count": 20,
   "metadata": {},
   "outputs": [],
   "source": [
    "def HADD2(a0,a1,b0,b1):\n",
    "    # J3: implement a half adder\n",
    "    [checkBoolean(x) for x in (a0, a1, b0, b1)] # just checking\n",
    "    return 0,0"
   ]
  },
  {
   "cell_type": "code",
   "execution_count": 22,
   "metadata": {},
   "outputs": [],
   "source": [
    "assert(HADD2(1,0,1,0) == (0,0))\n",
    "assert(HADD2(1,1,1,0) == (0,1))\n",
    "assert(HADD2(0,0,0,0) == (0,0))\n",
    "assert(HADD2(1,1,0,1) == (0,0))"
   ]
  },
  {
   "cell_type": "markdown",
   "metadata": {},
   "source": [
    "A full adder is a function that takes three bits as input, and gives their two bit sum as output. For example, FADD(0,1,1) = 1,0. The idea of a full adder is that two of the bits will represent input bits in an addition, and the third bit will represent the carry value from the addition of a less-significant bit.\n",
    "\n",
    "**Problem J4.** Implement a full adder below. You may only use NAND."
   ]
  },
  {
   "cell_type": "code",
   "execution_count": 23,
   "metadata": {},
   "outputs": [],
   "source": [
    "def FADD(a,b,c):\n",
    "    [checkBoolean(x) for x in (a, b, c)] # just checking\n",
    "    # J4: implement a full adder\n",
    "    return 0, 0"
   ]
  },
  {
   "cell_type": "code",
   "execution_count": 26,
   "metadata": {},
   "outputs": [],
   "source": [
    "assert(FADD(0,1,1) == (1,0))\n",
    "assert(FADD(0,0,0) == (0,0))\n",
    "assert(FADD(1,1,1) == (1,1))"
   ]
  },
  {
   "cell_type": "markdown",
   "metadata": {},
   "source": [
    "**Problem J5.** Use the `HADD2` and `FADD` procedures to implement a function that adds together two 4-bit numbers. You may introduce additional procedures as syntactic sugar if you wish, but everything you write should be inlinable as straightline code."
   ]
  },
  {
   "cell_type": "code",
   "execution_count": 27,
   "metadata": {},
   "outputs": [],
   "source": [
    "def ADD4(a0,a1,a2,a3,b0,b1,b2,b3):\n",
    "    [checkBoolean(x) for x in (a0, a1, a2, a3, b0, b1, b2, b3)] # just checking\n",
    "    # J5: implement the addition of two 4-bit numbers\n",
    "    return 0,0,0,0,0"
   ]
  },
  {
   "cell_type": "code",
   "execution_count": null,
   "metadata": {},
   "outputs": [],
   "source": [
    "assert(ADD4(0,0,0,0,0,0,0,0) == (0,0,0,0,0))\n",
    "assert(ADD4(0,0,0,1,0,0,0,1) == (0,0,0,1,0))\n",
    "assert(ADD4(1,1,1,1,1,1,1,1) == (1,1,1,1,0))\n",
    "assert(ADD4(1,0,1,0,0,1,0,1) == (0,1,1,1,1))"
   ]
  },
  {
   "cell_type": "markdown",
   "metadata": {},
   "source": [
    "**J6** ($\\star$) Challenge! Write a program that computes `MULT4`, the function that takes two 4 bits numbers as input, and produces output bits representing their product. You may use additional procedures as syntactic sugar if you wish, but everything you write should be inlinable as straightline code using only `NAND` and inlinable calls to functions built using only `NAND`. "
   ]
  },
  {
   "cell_type": "code",
   "execution_count": null,
   "metadata": {},
   "outputs": [],
   "source": [
    "def MULT4(a0,a1,a2,a3,b0,b1,b2,b3):\n",
    "    [checkBoolean(x) for x in (a0, a1, a2, a3, b0, b1, b2, b3)] # just checking\n",
    "    # J6: implement the multiplication of two 4-bit numbers\n",
    "    return 0 # you must figure out how many bits to return"
   ]
  },
  {
   "cell_type": "code",
   "execution_count": null,
   "metadata": {},
   "outputs": [],
   "source": [
    "# we'll add asserts here after submission to test your solution."
   ]
  },
  {
   "cell_type": "markdown",
   "metadata": {},
   "source": [
    "### End of Jupyter Notebook for Problem Set 3\n",
    "\n",
    "You should submit your completed notebook, as well as your PDF file created by modifying `ps3.tex` for PS3 in collab."
   ]
  }
 ],
 "metadata": {
  "kernelspec": {
   "display_name": "Python 3",
   "language": "python",
   "name": "python3"
  },
  "language_info": {
   "codemirror_mode": {
    "name": "ipython",
    "version": 3
   },
   "file_extension": ".py",
   "mimetype": "text/x-python",
   "name": "python",
   "nbconvert_exporter": "python",
   "pygments_lexer": "ipython3",
   "version": "3.7.1"
  }
 },
 "nbformat": 4,
 "nbformat_minor": 2
}
