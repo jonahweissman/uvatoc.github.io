{
 "cells": [
  {
   "cell_type": "markdown",
   "metadata": {},
   "source": [
    "# **cs3102 Fall 2019**\n",
    "\n",
    "## Problem Set 1 (Jupyter Part): (Un)natural Numbers\n",
    "\n",
    "   \n",
    "**Purpose**  \n",
    "The goal of this part of Problem Set 1 is to explore our constructive recursive definition of Natural Numbers. The programs you will write will be similar to both \"definitions\" and \"proofs\", but as executable code. (Of course, one should be very careful in considering a \"program\" to be a \"proof\", especially without proving the program is correct.) "
   ]
  },
  {
   "cell_type": "markdown",
   "metadata": {},
   "source": [
    "## Defining Natural Numbers\n",
    "\n",
    "We will use Python strings to represent our Natural Numbers. The main point of this is to show that the \"0\" and \"S\" used in the definition are just symbols: we only use string concatenation, extraction, and comparison to build our Natural Number represetation. Of course, this is a ridiculously silly way to represent Natural Numbers if we were actually doing computations on them (especially as Python already provides a built-in integer datatype, which could be naturally used to approximate the Natural Numbers)."
   ]
  },
  {
   "cell_type": "code",
   "execution_count": null,
   "metadata": {},
   "outputs": [],
   "source": [
    "def makeZero():\n",
    "    return '🍩' \n",
    "\n",
    "def isZero(n):\n",
    "    return n == '🍩' \n",
    "\n",
    "def makeSuccessor(n):\n",
    "    return '+' + n # String concatenation\n",
    "\n",
    "def getPredecessor(n):\n",
    "    assert n[0] == '+' # must be a S(p)\n",
    "    return n[1:] # returns the rest of the string"
   ]
  },
  {
   "cell_type": "markdown",
   "metadata": {},
   "source": [
    "(feel free to replace the emojis we used to your favorites, but be wary of multi-byte unicode characters!)"
   ]
  },
  {
   "cell_type": "code",
   "execution_count": 40,
   "metadata": {},
   "outputs": [
    {
     "data": {
      "text/plain": [
       "'🍩'"
      ]
     },
     "execution_count": 40,
     "metadata": {},
     "output_type": "execute_result"
    }
   ],
   "source": [
    "makeZero()"
   ]
  },
  {
   "cell_type": "code",
   "execution_count": 41,
   "metadata": {},
   "outputs": [
    {
     "data": {
      "text/plain": [
       "'++🍩'"
      ]
     },
     "execution_count": 41,
     "metadata": {},
     "output_type": "execute_result"
    }
   ],
   "source": [
    "makeSuccessor(makeSuccessor(makeZero()))"
   ]
  },
  {
   "cell_type": "code",
   "execution_count": 42,
   "metadata": {},
   "outputs": [],
   "source": [
    "assert(isZero(makeZero()))\n",
    "assert(not isZero(makeSuccessor(makeZero())))\n",
    "assert(isZero(getPredecessor(makeSuccessor(makeZero()))))"
   ]
  },
  {
   "cell_type": "code",
   "execution_count": 50,
   "metadata": {},
   "outputs": [
    {
     "data": {
      "text/plain": [
       "'+🍩'"
      ]
     },
     "execution_count": 50,
     "metadata": {},
     "output_type": "execute_result"
    }
   ],
   "source": [
    "zero = makeZero()\n",
    "one = makeSuccessor(zero)\n",
    "one"
   ]
  },
  {
   "cell_type": "code",
   "execution_count": 44,
   "metadata": {},
   "outputs": [
    {
     "name": "stdout",
     "output_type": "stream",
     "text": [
      "🍩\n"
     ]
    }
   ],
   "source": [
    "print(getPredecessor(one))"
   ]
  },
  {
   "cell_type": "markdown",
   "metadata": {},
   "source": [
    "## Defining Equalty\n",
    "\n",
    "Here's a definition of equality using our Natural Numbers, based on [Class 2](https://uvatoc.github.io/class2) (slide 36). (We could just defined equality using Python string equality, but that would be tied to our string representation and assume we know what Python's string equality does. Although we are using strings for our representation now, we don't want to rely on anything other than the `makeZero`, `isZero`, `makeSuccessor` and `getPredecessor` functions we defined.)"
   ]
  },
  {
   "cell_type": "code",
   "execution_count": 51,
   "metadata": {},
   "outputs": [],
   "source": [
    "def equalNumbers(n, m):\n",
    "    \"\"\"Returns true iff n and m represent the same number.\"\"\"\n",
    "    if isZero(n):\n",
    "        return isZero(m)\n",
    "    else:\n",
    "        if isZero(m):\n",
    "            return False\n",
    "        else:\n",
    "            return equalNumbers(getPredecessor(n), getPredecessor(m))\n",
    "    "
   ]
  },
  {
   "cell_type": "code",
   "execution_count": 52,
   "metadata": {},
   "outputs": [],
   "source": [
    "two = makeSuccessor(one)\n",
    "three = makeSuccessor(two)\n",
    "four = makeSuccessor(three)\n",
    "\n",
    "assert(equalNumbers(zero, zero))\n",
    "assert(not equalNumbers(one, zero))\n",
    "assert(equalNumbers(four, four))\n",
    "assert(not equalNumbers(four, three))\n",
    "assert(not equalNumbers(three, four))"
   ]
  },
  {
   "cell_type": "markdown",
   "metadata": {},
   "source": [
    "**Problem J1.** Define a function `addNumbers` that takes as input two Natural Numbers (as represented here) and returns a Natural Number that represents the sum of the two inputs."
   ]
  },
  {
   "cell_type": "code",
   "execution_count": 1,
   "metadata": {},
   "outputs": [],
   "source": [
    "def addNumbers(a, b):\n",
    "    \"\"\"Takes two Natural Numbers as input, and outputs a \n",
    "    Natural Number that represents their sum.\"\"\"\n",
    "    pass # fill in with your code for Problem J1"
   ]
  },
  {
   "cell_type": "code",
   "execution_count": null,
   "metadata": {},
   "outputs": [],
   "source": [
    "# Here are some examples to test your addNumbers function. None of the assertions should fail.\n",
    "assert(equalNumbers(addNumbers(two, zero), two))\n",
    "assert(equalNumbers(addNumbers(zero, two), two))\n",
    "assert(equalNumbers(addNumbers(one, one), two))\n",
    "assert(equalNumbers(addNumbers(two, two), four))\n",
    "print (\"All tests passed!\")"
   ]
  },
  {
   "cell_type": "markdown",
   "metadata": {},
   "source": [
    "**Problem J2.** Define a function `greaterNumber` that takes as input two Natural Numbers (as represented here) and returns a Boolean that denotes whether the first input is greater than the second."
   ]
  },
  {
   "cell_type": "code",
   "execution_count": 1,
   "metadata": {},
   "outputs": [],
   "source": [
    "def greaterNumber(a, b):\n",
    "    \"\"\"Takes two Natural Numbers as input, and outputs a Boolean indicating \n",
    "    if the number represented by the first input is greater than (>) the \n",
    "    number represented by the second.\"\"\"\n",
    "    pass # fill in your code for Problem J2"
   ]
  },
  {
   "cell_type": "code",
   "execution_count": null,
   "metadata": {},
   "outputs": [],
   "source": [
    "# Here are some examples to test your lessThanEq function. None of the assertions should fail.\n",
    "assert(not greaterNumber(addNumbers(two, zero), two))\n",
    "assert(not greaterNumber(addNumbers(zero, zero), two))\n",
    "assert(not greaterNumber(four, four))\n",
    "assert(greaterNumber(addNumbers(two, three), four))\n",
    "print (\"All tests passed!\")\n"
   ]
  },
  {
   "cell_type": "markdown",
   "metadata": {},
   "source": [
    "## Unnatural Trees\n",
    "\n",
    "Next, we explore a recursive constructive definition of trees. We will say that a Tree is either the _empty tree_, which we will represent with an acorn: '🌰', or it will be a pair of Trees.\n",
    "<p></p>\n",
    "\n",
    "<div style=\"border-width:5px; border-style: solid; border-color:#c83660;padding-left:10px; padding-right:10px; padding-top:12px; padding-bottom:12px;margin-left:10%;margin-right:10%;\">\n",
    "    <b>Added 9 September:</b> Our definition of trees is a bit non-standard here, since what we are calling the <em>empty tree</em>, and returning from <code>makeEmptyTree</code> is actually a tree with one root node. This leads to some confusion in the definition of <code>treeHeight</code>, which is different here from the standard definition used in Problem 2 (in the main assignment). We define the height of the _empty tree_, which is actually the tree with one root node, as 0, and increase the height for each level from there. This differs from the standard level where the empty tree has no nodes and height 0, the tree with one root node has height 1, and so on.\n",
    "</div>\n"
   ]
  },
  {
   "cell_type": "code",
   "execution_count": 14,
   "metadata": {},
   "outputs": [],
   "source": [
    "def makeEmptyTree():\n",
    "    \"\"\"Returns the empty tree.\"\"\"\n",
    "    return '🌰'\n",
    "\n",
    "def isEmpty(t):\n",
    "    \"\"\"Takes a Tree as input, and outputs a Boolean indicating if the input is\n",
    "    the empty tree.\"\"\"\n",
    "    return t == '🌰'\n",
    "\n",
    "def makeBranchedTree(l, r):\n",
    "    \"\"\"Takes two Trees as inputs, and outputs a Tree whose left branch is the\n",
    "    first input, and whose right branch is the second input.\"\"\"\n",
    "    # Python note: this makes a tuple, which is essentially an immutable list. \n",
    "    return (l, r)\n",
    "\n",
    "def getLeftBranch(t):\n",
    "    \"\"\"Takes a non-empty Tree as input, and outputs the left branch of that Tree.\n",
    "    (Note that this is a partial function. It is not defined for the empty tree, \n",
    "    and fails with an error on that input.)\"\"\"\n",
    "    assert(not isEmpty(t))\n",
    "    return t[0]\n",
    "\n",
    "def getRightBranch(t):\n",
    "    \"\"\"Takes a non-empty Tree as input, and outputs the right branch of that Tree.\"\"\"\n",
    "    assert(not isEmpty(t))\n",
    "    return t[1]"
   ]
  },
  {
   "cell_type": "markdown",
   "metadata": {},
   "source": [
    "We can make a few example trees."
   ]
  },
  {
   "cell_type": "code",
   "execution_count": 13,
   "metadata": {},
   "outputs": [
    {
     "name": "stdout",
     "output_type": "stream",
     "text": [
      "🌰\n",
      "(('🌰', '🌰'), ('🌰', '🌰'))\n",
      "(('🌰', '🌰'), ((('🌰', '🌰'), ('🌰', '🌰')), (('🌰', '🌰'), ('🌰', '🌰'))))\n"
     ]
    }
   ],
   "source": [
    "emptyTree = makeEmptyTree()\n",
    "print(emptyTree)\n",
    "\n",
    "fullHeight1 = makeBranchedTree(emptyTree, emptyTree)\n",
    "fullHeight2 = makeBranchedTree(fullHeight1, fullHeight1)\n",
    "print(fullHeight2)\n",
    "\n",
    "fullHeight3 = makeBranchedTree(fullHeight2, fullHeight2)\n",
    "unbalancedHeight4 = makeBranchedTree(fullHeight1, fullHeight3)\n",
    "print(unbalancedHeight4)"
   ]
  },
  {
   "cell_type": "markdown",
   "metadata": {},
   "source": [
    "**Problem J3.** Define `treeSize`, `treeHeight`, and `leafCount` functions which that all take a single Tree as their input, and output an int (the regular Python integer type, not our (un)Natural Number type from the earlier problems) that represents the total number of nodes in the tree, the height of the tree, and the total number of leaves in the tree respectively. You may use standard int operations including `+`, `-`, `*`, `<`, etc.).\n",
    "\n",
    "(Hint: a _leaf_ is a Tree whose children are both empty trees, so it may be helful to write an `isLeaf` function, but it is not required.)"
   ]
  },
  {
   "cell_type": "code",
   "execution_count": 15,
   "metadata": {},
   "outputs": [],
   "source": [
    "def treeSize(t):\n",
    "    \"\"\"Takes a Tree as input, and outputs an int representing the total number of nodes in the tree.\"\"\"\n",
    "    pass # replace with your code"
   ]
  },
  {
   "cell_type": "code",
   "execution_count": null,
   "metadata": {},
   "outputs": [],
   "source": [
    "# Some tests for treeeSize\n",
    "assert(treeSize(emptyTree) == 0)\n",
    "assert(treeSize(fullHeight1) == 1)\n",
    "assert(treeSize(fullHeight2) == 3)\n",
    "assert(treeSize(fullHeight3) == 7)\n",
    "assert(treeSize(unbalancedHeight4) == 9)\n",
    "print(\"Zuka Zama!\")"
   ]
  },
  {
   "cell_type": "code",
   "execution_count": null,
   "metadata": {},
   "outputs": [],
   "source": [
    "def treeHeight(t):\n",
    "    \"\"\"Takes a Tree as input, and outputs the height of that tree.\"\"\"\n",
    "    pass # replace with your code"
   ]
  },
  {
   "cell_type": "code",
   "execution_count": null,
   "metadata": {},
   "outputs": [],
   "source": [
    "assert(treeHeight(emptyTree) == 0)\n",
    "assert(treeHeight(fullHeight1) == 1)\n",
    "assert(treeHeight(fullHeight2) == 2)\n",
    "assert(treeHeight(fullHeight3) == 3)\n",
    "assert(treeHeight(unbalancedHeight4) == 4)\n",
    "print(\"Wahoowa!\")"
   ]
  },
  {
   "cell_type": "code",
   "execution_count": null,
   "metadata": {},
   "outputs": [],
   "source": [
    "def leafCount(t):\n",
    "    \"\"\"Takes a Tree as input, and outputs the total number of leaves of that tree.\"\"\"\n",
    "    pass # replace with your code"
   ]
  },
  {
   "cell_type": "code",
   "execution_count": null,
   "metadata": {},
   "outputs": [],
   "source": [
    "assert(leafCount(emptyTree) == 0)\n",
    "assert(leafCount(fullHeight1) == 1)\n",
    "assert(leafCount(fullHeight2) == 2)\n",
    "assert(leafCount(fullHeight3) == 4)\n",
    "assert(leafCount(unbalancedHeight4) == 5)\n",
    "print(\"Yippee!\")"
   ]
  },
  {
   "cell_type": "markdown",
   "metadata": {},
   "source": [
    "<div style=\"border-width:5px; border-style: solid; border-color:#f6d365;padding-left:10px; padding-right:10px; padding-top:12px; padding-bottom:12px;margin-left:10%;margin-right:10%;\">\n",
    "    Optional Bonus Challenge: <b>Code golf!</b>\n",
    "    <p>Code golf is a (to some, <a href=\"https://codegolf.stackexchange.com/?tab=month\">surprisingly popular!</a>) game where the goal is to find the smallest correct implementation of a particular function (or set of functions, as in this case). For your main answers to problem J3, you should strive for simplicity and understandability in your code. \n",
    "    </p><p>\n",
    "        For an optional challenge, find the shortest implemention you can of the three functions. You can't change the names of the <code>treeSize</code>, <code>treeHeight</code>, and <code>leafCount</code> functions, or the tree representation, and should not make assumptions about the underlying tree representation (that is, your solution should not rely on our implementing the Tree using a tuple, but should only use the `isEmpty`, getLeftBranch`, and `getRightBranch` functions to access the tree). </p><p>We know a solution that is 248 characters (4 lines) long. Any solution that is under 400 characters long will be worth bonus points, with extra bonuses possible for any solutions that are as short or shorter than our solution, as well as the shortest correct solution.\n",
    "    </p><p>\n",
    "        To be eligible, of course, your solution must be correct, including passing all of the tests above but also some additional generated tests. </p> \n",
    "    </div>"
   ]
  },
  {
   "cell_type": "code",
   "execution_count": 17,
   "metadata": {},
   "outputs": [],
   "source": [
    "# Optional: put your code golf definitions of treeSize, treeHeight, and leafCount here"
   ]
  },
  {
   "cell_type": "markdown",
   "metadata": {},
   "source": [
    "## Bijections\n",
    "\n",
    "We can show two sets are the same size by demonstrating a bijection between the elements in these sets. Intuitively, a bijection shows two sets to be the same size because it being injective implies every input element maps to a unique output element, and surjective implies that every possible output element is mapped to by some input. Combined, these two properties cause elements to form matched pairs. \n",
    "\n",
    "Here, we are going to show that the number of binary strings of length <em>n</em> is equal to 2<sup>_n_</sup> by giving a bijection with the natural numbers up to 2<sup>_n_</sup>, i.e., by making these matched pairs. To do this, your goal is to write a function `bitstringToNaturalNumber` which will convert a binary string to a Natural Number (using our constructive definition from earlier in this notebook). \n",
    "\n",
    "Your function should be a one-to-one mapping: there should be some binary string input that produces every natural number, and there should not be any two different binary string inputs that ouput the same natural number. (Note, however, that it is not necessary to assume any particular way of interpreting a bitstring as a number.) \n",
    "\n",
    "**Problem J4.** Write this `bitstringToNaturalNumber` function."
   ]
  },
  {
   "cell_type": "code",
   "execution_count": 2,
   "metadata": {},
   "outputs": [],
   "source": [
    "def bitstringToNaturalNumber(binaryString):\n",
    "    pass"
   ]
  },
  {
   "cell_type": "markdown",
   "metadata": {},
   "source": [
    "The following code checks that every bitstring of length n maps to a different natual number:"
   ]
  },
  {
   "cell_type": "code",
   "execution_count": null,
   "metadata": {},
   "outputs": [],
   "source": [
    "def isOneToOne(n):\n",
    "    allBitStrings = ['']\n",
    "    for i in range (n):\n",
    "        tempBitStrings = []\n",
    "        for bitstring in allBitStrings:\n",
    "            tempBitStrings.append(bitstring + '0')\n",
    "            tempBitStrings.append(bitstring + '1')\n",
    "        allBitStrings = tempBitStrings\n",
    "    allNaturals = []\n",
    "    for bitstring in allBitStrings:\n",
    "        natural = bitstringToNaturalNumber(bitstring)\n",
    "        if natural in allNaturals:\n",
    "            return False\n",
    "        allNaturals.append(natural)\n",
    "    return True\n",
    "\n",
    "assert(isOneToOne(0))\n",
    "assert(isOneToOne(1))\n",
    "assert(isOneToOne(4))\n",
    "print(\"YESSSSS!!!\")"
   ]
  },
  {
   "cell_type": "markdown",
   "metadata": {},
   "source": [
    "### End of Jupyter Notebook for Problem Set 1\n",
    "\n",
    "See `ps1.tex` for the remaining problems."
   ]
  }
 ],
 "metadata": {
  "kernelspec": {
   "display_name": "Python 3",
   "language": "python",
   "name": "python3"
  },
  "language_info": {
   "codemirror_mode": {
    "name": "ipython",
    "version": 3
   },
   "file_extension": ".py",
   "mimetype": "text/x-python",
   "name": "python",
   "nbconvert_exporter": "python",
   "pygments_lexer": "ipython3",
   "version": "3.7.1"
  }
 },
 "nbformat": 4,
 "nbformat_minor": 2
}
